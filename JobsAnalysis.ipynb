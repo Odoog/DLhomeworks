{
  "nbformat": 4,
  "nbformat_minor": 0,
  "metadata": {
    "colab": {
      "name": "linkedIn2.ipynb",
      "provenance": [],
      "collapsed_sections": [],
      "authorship_tag": "ABX9TyPfBLjur+hdSQtoIoB8wuIh",
      "include_colab_link": true
    },
    "kernelspec": {
      "name": "python3",
      "display_name": "Python 3"
    },
    "language_info": {
      "name": "python"
    },
    "widgets": {
      "application/vnd.jupyter.widget-state+json": {
        "2e5056b51dbb491eb9c805ef14124b93": {
          "model_module": "@jupyter-widgets/controls",
          "model_name": "HBoxModel",
          "state": {
            "_view_name": "HBoxView",
            "_dom_classes": [],
            "_model_name": "HBoxModel",
            "_view_module": "@jupyter-widgets/controls",
            "_model_module_version": "1.5.0",
            "_view_count": null,
            "_view_module_version": "1.5.0",
            "box_style": "",
            "layout": "IPY_MODEL_671a63140dca4326984b1a7a65355775",
            "_model_module": "@jupyter-widgets/controls",
            "children": [
              "IPY_MODEL_2ba09eb67bca4291a80ae718c1cf48f6",
              "IPY_MODEL_3440f35336634bc1bce99821a5078ff9"
            ]
          }
        },
        "671a63140dca4326984b1a7a65355775": {
          "model_module": "@jupyter-widgets/base",
          "model_name": "LayoutModel",
          "state": {
            "_view_name": "LayoutView",
            "grid_template_rows": null,
            "right": null,
            "justify_content": null,
            "_view_module": "@jupyter-widgets/base",
            "overflow": null,
            "_model_module_version": "1.2.0",
            "_view_count": null,
            "flex_flow": null,
            "width": null,
            "min_width": null,
            "border": null,
            "align_items": null,
            "bottom": null,
            "_model_module": "@jupyter-widgets/base",
            "top": null,
            "grid_column": null,
            "overflow_y": null,
            "overflow_x": null,
            "grid_auto_flow": null,
            "grid_area": null,
            "grid_template_columns": null,
            "flex": null,
            "_model_name": "LayoutModel",
            "justify_items": null,
            "grid_row": null,
            "max_height": null,
            "align_content": null,
            "visibility": null,
            "align_self": null,
            "height": null,
            "min_height": null,
            "padding": null,
            "grid_auto_rows": null,
            "grid_gap": null,
            "max_width": null,
            "order": null,
            "_view_module_version": "1.2.0",
            "grid_template_areas": null,
            "object_position": null,
            "object_fit": null,
            "grid_auto_columns": null,
            "margin": null,
            "display": null,
            "left": null
          }
        },
        "2ba09eb67bca4291a80ae718c1cf48f6": {
          "model_module": "@jupyter-widgets/controls",
          "model_name": "FloatProgressModel",
          "state": {
            "_view_name": "ProgressView",
            "style": "IPY_MODEL_5516e5d0b1ef4806bda173ee4c48eebd",
            "_dom_classes": [],
            "description": "100%",
            "_model_name": "FloatProgressModel",
            "bar_style": "success",
            "max": 549,
            "_view_module": "@jupyter-widgets/controls",
            "_model_module_version": "1.5.0",
            "value": 549,
            "_view_count": null,
            "_view_module_version": "1.5.0",
            "orientation": "horizontal",
            "min": 0,
            "description_tooltip": null,
            "_model_module": "@jupyter-widgets/controls",
            "layout": "IPY_MODEL_be68e5527a3449dd93b083639ee505ba"
          }
        },
        "3440f35336634bc1bce99821a5078ff9": {
          "model_module": "@jupyter-widgets/controls",
          "model_name": "HTMLModel",
          "state": {
            "_view_name": "HTMLView",
            "style": "IPY_MODEL_04911bc2f4fb4b0bb692ab755b6cf8d4",
            "_dom_classes": [],
            "description": "",
            "_model_name": "HTMLModel",
            "placeholder": "​",
            "_view_module": "@jupyter-widgets/controls",
            "_model_module_version": "1.5.0",
            "value": " 549/549 [08:22&lt;00:00,  1.09it/s]",
            "_view_count": null,
            "_view_module_version": "1.5.0",
            "description_tooltip": null,
            "_model_module": "@jupyter-widgets/controls",
            "layout": "IPY_MODEL_9882f60a7f1940548ebd771f24e9e17a"
          }
        },
        "5516e5d0b1ef4806bda173ee4c48eebd": {
          "model_module": "@jupyter-widgets/controls",
          "model_name": "ProgressStyleModel",
          "state": {
            "_view_name": "StyleView",
            "_model_name": "ProgressStyleModel",
            "description_width": "initial",
            "_view_module": "@jupyter-widgets/base",
            "_model_module_version": "1.5.0",
            "_view_count": null,
            "_view_module_version": "1.2.0",
            "bar_color": null,
            "_model_module": "@jupyter-widgets/controls"
          }
        },
        "be68e5527a3449dd93b083639ee505ba": {
          "model_module": "@jupyter-widgets/base",
          "model_name": "LayoutModel",
          "state": {
            "_view_name": "LayoutView",
            "grid_template_rows": null,
            "right": null,
            "justify_content": null,
            "_view_module": "@jupyter-widgets/base",
            "overflow": null,
            "_model_module_version": "1.2.0",
            "_view_count": null,
            "flex_flow": null,
            "width": null,
            "min_width": null,
            "border": null,
            "align_items": null,
            "bottom": null,
            "_model_module": "@jupyter-widgets/base",
            "top": null,
            "grid_column": null,
            "overflow_y": null,
            "overflow_x": null,
            "grid_auto_flow": null,
            "grid_area": null,
            "grid_template_columns": null,
            "flex": null,
            "_model_name": "LayoutModel",
            "justify_items": null,
            "grid_row": null,
            "max_height": null,
            "align_content": null,
            "visibility": null,
            "align_self": null,
            "height": null,
            "min_height": null,
            "padding": null,
            "grid_auto_rows": null,
            "grid_gap": null,
            "max_width": null,
            "order": null,
            "_view_module_version": "1.2.0",
            "grid_template_areas": null,
            "object_position": null,
            "object_fit": null,
            "grid_auto_columns": null,
            "margin": null,
            "display": null,
            "left": null
          }
        },
        "04911bc2f4fb4b0bb692ab755b6cf8d4": {
          "model_module": "@jupyter-widgets/controls",
          "model_name": "DescriptionStyleModel",
          "state": {
            "_view_name": "StyleView",
            "_model_name": "DescriptionStyleModel",
            "description_width": "",
            "_view_module": "@jupyter-widgets/base",
            "_model_module_version": "1.5.0",
            "_view_count": null,
            "_view_module_version": "1.2.0",
            "_model_module": "@jupyter-widgets/controls"
          }
        },
        "9882f60a7f1940548ebd771f24e9e17a": {
          "model_module": "@jupyter-widgets/base",
          "model_name": "LayoutModel",
          "state": {
            "_view_name": "LayoutView",
            "grid_template_rows": null,
            "right": null,
            "justify_content": null,
            "_view_module": "@jupyter-widgets/base",
            "overflow": null,
            "_model_module_version": "1.2.0",
            "_view_count": null,
            "flex_flow": null,
            "width": null,
            "min_width": null,
            "border": null,
            "align_items": null,
            "bottom": null,
            "_model_module": "@jupyter-widgets/base",
            "top": null,
            "grid_column": null,
            "overflow_y": null,
            "overflow_x": null,
            "grid_auto_flow": null,
            "grid_area": null,
            "grid_template_columns": null,
            "flex": null,
            "_model_name": "LayoutModel",
            "justify_items": null,
            "grid_row": null,
            "max_height": null,
            "align_content": null,
            "visibility": null,
            "align_self": null,
            "height": null,
            "min_height": null,
            "padding": null,
            "grid_auto_rows": null,
            "grid_gap": null,
            "max_width": null,
            "order": null,
            "_view_module_version": "1.2.0",
            "grid_template_areas": null,
            "object_position": null,
            "object_fit": null,
            "grid_auto_columns": null,
            "margin": null,
            "display": null,
            "left": null
          }
        }
      }
    }
  },
  "cells": [
    {
      "cell_type": "markdown",
      "metadata": {
        "id": "view-in-github",
        "colab_type": "text"
      },
      "source": [
        "<a href=\"https://colab.research.google.com/github/Odoog/DLhomeworks/blob/master/JobsAnalysis.ipynb\" target=\"_parent\"><img src=\"https://colab.research.google.com/assets/colab-badge.svg\" alt=\"Open In Colab\"/></a>"
      ]
    },
    {
      "cell_type": "markdown",
      "metadata": {
        "id": "o6POilAqoaUo"
      },
      "source": [
        "## Setup"
      ]
    },
    {
      "cell_type": "code",
      "metadata": {
        "colab": {
          "base_uri": "https://localhost:8080/",
          "height": 441
        },
        "id": "r33G7a7GDwTc",
        "outputId": "3180586c-51e5-46bf-87e1-2ed01f8a458f"
      },
      "source": [
        "!pip3 install scv"
      ],
      "execution_count": 11,
      "outputs": [
        {
          "output_type": "stream",
          "text": [
            "Collecting scv\n",
            "  Downloading https://files.pythonhosted.org/packages/b5/d9/a375082a791c41f9a88c8b2b3010c0a88036a2d855bd6c39b216c354afe2/scv-2.0.0-py2.py3-none-any.whl\n",
            "Requirement already satisfied: pyyaml in /usr/local/lib/python3.7/dist-packages (from scv) (3.13)\n",
            "Collecting virtualenv\n",
            "\u001b[?25l  Downloading https://files.pythonhosted.org/packages/03/08/f819421002e85a71d58368f7bffbe0b1921325e0e8ca7857cb5fb0e1f7c1/virtualenv-20.4.7-py2.py3-none-any.whl (7.2MB)\n",
            "\u001b[K     |████████████████████████████████| 7.2MB 7.5MB/s \n",
            "\u001b[?25hCollecting enum34\n",
            "  Downloading https://files.pythonhosted.org/packages/63/f6/ccb1c83687756aeabbf3ca0f213508fcfb03883ff200d201b3a4c60cedcc/enum34-1.1.10-py3-none-any.whl\n",
            "Requirement already satisfied: appdirs<2,>=1.4.3 in /usr/local/lib/python3.7/dist-packages (from virtualenv->scv) (1.4.4)\n",
            "Requirement already satisfied: filelock<4,>=3.0.0 in /usr/local/lib/python3.7/dist-packages (from virtualenv->scv) (3.0.12)\n",
            "Collecting distlib<1,>=0.3.1\n",
            "\u001b[?25l  Downloading https://files.pythonhosted.org/packages/87/26/f6a23dd3e578132cf924e0dd5d4e055af0cd4ab43e2a9f10b7568bfb39d9/distlib-0.3.2-py2.py3-none-any.whl (338kB)\n",
            "\u001b[K     |████████████████████████████████| 348kB 38.3MB/s \n",
            "\u001b[?25hRequirement already satisfied: six<2,>=1.9.0 in /usr/local/lib/python3.7/dist-packages (from virtualenv->scv) (1.15.0)\n",
            "Requirement already satisfied: importlib-metadata>=0.12; python_version < \"3.8\" in /usr/local/lib/python3.7/dist-packages (from virtualenv->scv) (4.0.1)\n",
            "Requirement already satisfied: zipp>=0.5 in /usr/local/lib/python3.7/dist-packages (from importlib-metadata>=0.12; python_version < \"3.8\"->virtualenv->scv) (3.4.1)\n",
            "Requirement already satisfied: typing-extensions>=3.6.4; python_version < \"3.8\" in /usr/local/lib/python3.7/dist-packages (from importlib-metadata>=0.12; python_version < \"3.8\"->virtualenv->scv) (3.7.4.3)\n",
            "Installing collected packages: distlib, virtualenv, enum34, scv\n",
            "Successfully installed distlib-0.3.2 enum34-1.1.10 scv-2.0.0 virtualenv-20.4.7\n"
          ],
          "name": "stdout"
        },
        {
          "output_type": "display_data",
          "data": {
            "application/vnd.colab-display-data+json": {
              "pip_warning": {
                "packages": [
                  "enum"
                ]
              }
            }
          },
          "metadata": {
            "tags": []
          }
        }
      ]
    },
    {
      "cell_type": "code",
      "metadata": {
        "colab": {
          "base_uri": "https://localhost:8080/"
        },
        "id": "RJilH4NBRRpD",
        "outputId": "09d384e2-6b4b-4f72-b725-3643c8bed3c8"
      },
      "source": [
        "import warnings\n",
        "from pandas.core.common import SettingWithCopyWarning\n",
        "warnings.simplefilter(action=\"ignore\", category=SettingWithCopyWarning)\n",
        "\n",
        "from babel import Locale\n",
        "locale = Locale('en', 'US')\n",
        "\n",
        "CURRENCY_SYMBOLS = [''.join(filter(lambda x: not x.isalpha(), st)) for st in list(locale.currency_symbols.values())]\n",
        "\n",
        "print(CURRENCY_SYMBOLS)\n",
        "\n",
        "INDUSTRY_NAMES = conf('INDUSTRY_NAMES')"
      ],
      "execution_count": 147,
      "outputs": [
        {
          "output_type": "stream",
          "text": [
            "['$', '$', '$', '¥', '€', '£', '$', '₪', '₹', '¥', '₩', '$', '$', '$', '$', '₫', '', '$', '', '', '¤']\n"
          ],
          "name": "stdout"
        }
      ]
    },
    {
      "cell_type": "markdown",
      "metadata": {
        "id": "4XKO3by4RNYH"
      },
      "source": [
        "## Import"
      ]
    },
    {
      "cell_type": "code",
      "metadata": {
        "id": "Bj-dMSm-r0En",
        "colab": {
          "base_uri": "https://localhost:8080/"
        },
        "outputId": "55444863-b862-46ac-d042-00b7419beb42"
      },
      "source": [
        "from __future__ import print_function\n",
        "import os\n",
        "import numpy as np\n",
        "from google.colab import drive\n",
        "from tqdm.autonotebook import tqdm\n",
        "import pandas as pd\n",
        "\n",
        "import requests as rq\n",
        "from datetime import datetime\n",
        "import csv\n",
        "import json"
      ],
      "execution_count": 90,
      "outputs": [
        {
          "output_type": "stream",
          "text": [
            "/usr/local/lib/python3.7/dist-packages/ipykernel_launcher.py:5: TqdmExperimentalWarning: Using `tqdm.autonotebook.tqdm` in notebook mode. Use `tqdm.tqdm` instead to force console mode (e.g. in jupyter console)\n",
            "  \"\"\"\n"
          ],
          "name": "stderr"
        }
      ]
    },
    {
      "cell_type": "code",
      "metadata": {
        "colab": {
          "base_uri": "https://localhost:8080/"
        },
        "id": "WBZfRUFwsGRb",
        "outputId": "05d02fa5-75b9-4cd1-f791-478a6399ba70"
      },
      "source": [
        "def driveReconnect():\n",
        "  drive.mount('/content/drive')\n",
        "  os.chdir('/content/drive/My Drive/MCH/data')\n",
        "  os.listdir()\n",
        "\n",
        "driveReconnect()"
      ],
      "execution_count": 7,
      "outputs": [
        {
          "output_type": "stream",
          "text": [
            "Drive already mounted at /content/drive; to attempt to forcibly remount, call drive.mount(\"/content/drive\", force_remount=True).\n"
          ],
          "name": "stdout"
        }
      ]
    },
    {
      "cell_type": "markdown",
      "metadata": {
        "id": "F2NotzA35npG"
      },
      "source": [
        "## Library"
      ]
    },
    {
      "cell_type": "code",
      "metadata": {
        "id": "tyw1YFNr7CGt"
      },
      "source": [
        "def log(toLog = \"\", status = \"log\"):\n",
        "    lg = open(\"log.txt\", \"a\")\n",
        "    currentTime = datetime.now().strftime(\"%H:%M:%S\")\n",
        "    errorSymbol = '!'\n",
        "    rTimes = 0\n",
        "    if status == \"err\":\n",
        "        rTimes = 10\n",
        "    lg.write(errorSymbol * rTimes + currentTime + \" : \" + toLog + \"\\n\")"
      ],
      "execution_count": 5,
      "outputs": []
    },
    {
      "cell_type": "code",
      "metadata": {
        "id": "rTOk1_0e1M3U"
      },
      "source": [
        "def conf(name, value = None):\n",
        "    if value is not None:\n",
        "        confFile = open('./configData.json', 'r')\n",
        "        config = json.loads(confFile.read())\n",
        "        confFile.close()\n",
        "\n",
        "        config.update({name : value})\n",
        "\n",
        "        confFile = open('./configData.json', 'w')\n",
        "        confFile.write(json.dumps(config))\n",
        "        confFile.close()\n",
        "\n",
        "        return value\n",
        "    else:\n",
        "        confFile = open('./configData.json', 'r')\n",
        "        config = json.loads(confFile.read())\n",
        "        confFile.close()\n",
        "\n",
        "        return config.get(name, None)"
      ],
      "execution_count": 146,
      "outputs": []
    },
    {
      "cell_type": "code",
      "metadata": {
        "id": "C9JDXDHMhmZx"
      },
      "source": [
        "def getNetologyCourseInfo(url):\n",
        "    if url == None:\n",
        "        return url\n",
        "    \n",
        "    cName = url.split('/')[-1]\n",
        "\n",
        "    rs = rq.get(\"https://netology.ru/backend/api/page_contents/programs%2F\" + cName)\n",
        "\n",
        "    courseInfo = []\n",
        "\n",
        "    if rs.status_code == 200:\n",
        "        try:\n",
        "            courseInfo = rs.json()\n",
        "        except:\n",
        "            log('rs.content is ' + str(rs.content), 'err')    \n",
        "    else:\n",
        "        log('re.status_code is ' + str(rs.status_code), 'err')\n",
        "        return\n",
        "\n",
        "    skills = []\n",
        "\n",
        "    try:\n",
        "        skills = courseInfo[\"content\"][\"resume\"][\"skills\"]\n",
        "        return list(map(getPureSkillFromText, skills))\n",
        "    except:\n",
        "        try:\n",
        "            skills = [t[\"title\"] for t in courseInfo[\"content\"][\"resume\"][\"technologies\"]]\n",
        "            return skills\n",
        "        except:\n",
        "            return []"
      ],
      "execution_count": 137,
      "outputs": []
    },
    {
      "cell_type": "code",
      "metadata": {
        "colab": {
          "base_uri": "https://localhost:8080/",
          "height": 574,
          "referenced_widgets": [
            "2e5056b51dbb491eb9c805ef14124b93",
            "671a63140dca4326984b1a7a65355775",
            "2ba09eb67bca4291a80ae718c1cf48f6",
            "3440f35336634bc1bce99821a5078ff9",
            "5516e5d0b1ef4806bda173ee4c48eebd",
            "be68e5527a3449dd93b083639ee505ba",
            "04911bc2f4fb4b0bb692ab755b6cf8d4",
            "9882f60a7f1940548ebd771f24e9e17a"
          ]
        },
        "id": "xAIQD1xn5wuv",
        "outputId": "20cf4ca3-57da-43e4-df52-13e3a2aeab96"
      },
      "source": [
        "def updateNetologyCoursesData():\n",
        "    rs = rq.get(\"https://netology.ru/backend/api/programs\")\n",
        "\n",
        "    courses = []\n",
        "\n",
        "    if rs.status_code == 200:\n",
        "        courses = rs.json()\n",
        "    else:\n",
        "        log('re.status_code is ' + str(rs.status_code), 'err')\n",
        "        return\n",
        "\n",
        "    with open('./Datasets/NetologyCoursesDataset.csv', 'w', encoding='UTF8') as f:\n",
        "        writer = csv.writer(f)\n",
        "\n",
        "        header = ['id', 'type', 'name', 'url', 'duration', 'projects_amount', 'date', 'main_direction', 'directions', 'skills', 'price_type', 'description']\n",
        "        writer.writerow(header)\n",
        "\n",
        "        for course in tqdm(courses):\n",
        "            writer.writerow(\n",
        "                [course.get(key, None) if key != 'skills' else getNetologyCourseInfo(course.get('url')) for key in header]\n",
        "            )\n",
        "\n",
        "    display(pd.read_csv('./Datasets/NetologyCoursesDataset.csv').head())\n",
        "\n",
        "updateNetologyCoursesData()"
      ],
      "execution_count": 95,
      "outputs": [
        {
          "output_type": "display_data",
          "data": {
            "application/vnd.jupyter.widget-view+json": {
              "model_id": "2e5056b51dbb491eb9c805ef14124b93",
              "version_minor": 0,
              "version_major": 2
            },
            "text/plain": [
              "HBox(children=(FloatProgress(value=0.0, max=549.0), HTML(value='')))"
            ]
          },
          "metadata": {
            "tags": []
          }
        },
        {
          "output_type": "stream",
          "text": [
            "\n"
          ],
          "name": "stdout"
        },
        {
          "output_type": "display_data",
          "data": {
            "text/html": [
              "<div>\n",
              "<style scoped>\n",
              "    .dataframe tbody tr th:only-of-type {\n",
              "        vertical-align: middle;\n",
              "    }\n",
              "\n",
              "    .dataframe tbody tr th {\n",
              "        vertical-align: top;\n",
              "    }\n",
              "\n",
              "    .dataframe thead th {\n",
              "        text-align: right;\n",
              "    }\n",
              "</style>\n",
              "<table border=\"1\" class=\"dataframe\">\n",
              "  <thead>\n",
              "    <tr style=\"text-align: right;\">\n",
              "      <th></th>\n",
              "      <th>id</th>\n",
              "      <th>type</th>\n",
              "      <th>name</th>\n",
              "      <th>url</th>\n",
              "      <th>duration</th>\n",
              "      <th>projects_amount</th>\n",
              "      <th>date</th>\n",
              "      <th>main_direction</th>\n",
              "      <th>directions</th>\n",
              "      <th>skills</th>\n",
              "      <th>price_type</th>\n",
              "      <th>description</th>\n",
              "    </tr>\n",
              "  </thead>\n",
              "  <tbody>\n",
              "    <tr>\n",
              "      <th>0</th>\n",
              "      <td>21275</td>\n",
              "      <td>profession</td>\n",
              "      <td>Тестировщик ПО</td>\n",
              "      <td>//netology.ru/programs/qa</td>\n",
              "      <td>7 месяцев</td>\n",
              "      <td>10 занятий</td>\n",
              "      <td>2021-07-01</td>\n",
              "      <td>{'slug': 'development', 'name': 'Программирова...</td>\n",
              "      <td>[{'slug': 'development', 'name': 'Программиров...</td>\n",
              "      <td>['Java', 'GitHub', 'Git', 'Selenium', 'SQL', '...</td>\n",
              "      <td>paid</td>\n",
              "      <td>&lt;p&gt;Станьте IT-специалистом, отвечающим за каче...</td>\n",
              "    </tr>\n",
              "    <tr>\n",
              "      <th>1</th>\n",
              "      <td>21295</td>\n",
              "      <td>profession</td>\n",
              "      <td>Инженер по тестированию: с нуля до middle</td>\n",
              "      <td>//netology.ru/programs/qa-middle</td>\n",
              "      <td>14 месяцев</td>\n",
              "      <td>10 занятий</td>\n",
              "      <td>2021-07-01</td>\n",
              "      <td>{'slug': 'development', 'name': 'Программирова...</td>\n",
              "      <td>[{'slug': 'development', 'name': 'Программиров...</td>\n",
              "      <td>['&lt;p&gt;Git&lt;/p&gt;', '&lt;p&gt;Java&lt;/p&gt;', '&lt;p&gt;Selenium&lt;/p&gt;...</td>\n",
              "      <td>paid</td>\n",
              "      <td>&lt;p&gt;Станьте IT-специалистом, отвечающим за каче...</td>\n",
              "    </tr>\n",
              "    <tr>\n",
              "      <th>2</th>\n",
              "      <td>20528</td>\n",
              "      <td>profession</td>\n",
              "      <td>Интернет-маркетолог: с нуля до middle</td>\n",
              "      <td>//netology.ru/programs/distance-course-interne...</td>\n",
              "      <td>10 месяцев</td>\n",
              "      <td>61 занятие</td>\n",
              "      <td>2021-06-28</td>\n",
              "      <td>{'slug': 'marketing', 'name': 'Маркетинг'}</td>\n",
              "      <td>[{'slug': 'marketing', 'name': 'Маркетинг'}]</td>\n",
              "      <td>[]</td>\n",
              "      <td>paid</td>\n",
              "      <td>&lt;p&gt;Основы маркетинга, анализ и сегментация цел...</td>\n",
              "    </tr>\n",
              "    <tr>\n",
              "      <th>3</th>\n",
              "      <td>19718</td>\n",
              "      <td>profession</td>\n",
              "      <td>Python-разработчик с нуля</td>\n",
              "      <td>//netology.ru/programs/python</td>\n",
              "      <td>8 месяцев</td>\n",
              "      <td>26 занятий</td>\n",
              "      <td>2021-06-15</td>\n",
              "      <td>{'slug': 'development', 'name': 'Программирова...</td>\n",
              "      <td>[{'slug': 'development', 'name': 'Программиров...</td>\n",
              "      <td>['&lt;font color=\"#000000\"&gt;Python&lt;/font&gt;', '&lt;p&gt;&lt;f...</td>\n",
              "      <td>paid</td>\n",
              "      <td>&lt;p&gt;Став Python-разработчиком, вы делаете первы...</td>\n",
              "    </tr>\n",
              "    <tr>\n",
              "      <th>4</th>\n",
              "      <td>12701</td>\n",
              "      <td>profession</td>\n",
              "      <td>SMM-менеджер: продвижение бизнеса в социальных...</td>\n",
              "      <td>//netology.ru/programs/smm-specialist</td>\n",
              "      <td>8 месяцев</td>\n",
              "      <td>128 занятий</td>\n",
              "      <td>2021-06-28</td>\n",
              "      <td>{'slug': 'marketing', 'name': 'Маркетинг'}</td>\n",
              "      <td>[{'slug': 'marketing', 'name': 'Маркетинг'}]</td>\n",
              "      <td>['Popsters', 'JagaJam', 'Target Hunter', 'Pepp...</td>\n",
              "      <td>paid</td>\n",
              "      <td>&lt;p&gt;Социальные сети для бизнеса, построение стр...</td>\n",
              "    </tr>\n",
              "  </tbody>\n",
              "</table>\n",
              "</div>"
            ],
            "text/plain": [
              "      id  ...                                        description\n",
              "0  21275  ...  <p>Станьте IT-специалистом, отвечающим за каче...\n",
              "1  21295  ...  <p>Станьте IT-специалистом, отвечающим за каче...\n",
              "2  20528  ...  <p>Основы маркетинга, анализ и сегментация цел...\n",
              "3  19718  ...  <p>Став Python-разработчиком, вы делаете первы...\n",
              "4  12701  ...  <p>Социальные сети для бизнеса, построение стр...\n",
              "\n",
              "[5 rows x 12 columns]"
            ]
          },
          "metadata": {
            "tags": []
          }
        }
      ]
    },
    {
      "cell_type": "code",
      "metadata": {
        "id": "CerX17IIPiaj"
      },
      "source": [
        "def getSkillsFromText(text):\n",
        "    return []"
      ],
      "execution_count": 42,
      "outputs": []
    },
    {
      "cell_type": "code",
      "metadata": {
        "id": "l-SdV_6uQ83A"
      },
      "source": [
        "def getPriceFromText(text):\n",
        "    \n",
        "    text = list(str(text))\n",
        "\n",
        "    price = \"\".join(filter(lambda x: x.isdecimal() or x in CURRENCY_SYMBOLS or x in ['.', ','], text))\n",
        "\n",
        "    if len(price) > 0:\n",
        "        if price[0] == '.' or price[0] == ',':\n",
        "            price = price[1:]\n",
        "        else:\n",
        "            if price[-1] == '.' or price[-1] == ',':\n",
        "                price = price[:-1]\n",
        "    return price"
      ],
      "execution_count": 191,
      "outputs": []
    },
    {
      "cell_type": "code",
      "metadata": {
        "id": "5fLA5H2dXFtm"
      },
      "source": [
        "def getHighlightsFromText(text):\n",
        "    return \"\""
      ],
      "execution_count": 184,
      "outputs": []
    },
    {
      "cell_type": "code",
      "metadata": {
        "id": "oWVUpydfgdWa"
      },
      "source": [
        "def getPureSkillFromText(text):\n",
        "    return text"
      ],
      "execution_count": null,
      "outputs": []
    },
    {
      "cell_type": "markdown",
      "metadata": {
        "id": "2ICO38m8Irgn"
      },
      "source": [
        "## Datasets manipulation\n"
      ]
    },
    {
      "cell_type": "markdown",
      "metadata": {
        "id": "63mHz5QZOEng"
      },
      "source": [
        "~load"
      ]
    },
    {
      "cell_type": "code",
      "metadata": {
        "colab": {
          "base_uri": "https://localhost:8080/",
          "height": 201
        },
        "id": "Zl_TyC6xV68O",
        "outputId": "ce5316d5-d9cf-4966-f716-f606997f3323"
      },
      "source": [
        "jobPostingsDatasetNaukriClean = pd.read_csv('./Datasets/JobPostingsDatasetClean(Naukri.com).csv')\n",
        "jobPostingsDatasetNaukriClean.head(1)"
      ],
      "execution_count": 161,
      "outputs": [
        {
          "output_type": "execute_result",
          "data": {
            "text/html": [
              "<div>\n",
              "<style scoped>\n",
              "    .dataframe tbody tr th:only-of-type {\n",
              "        vertical-align: middle;\n",
              "    }\n",
              "\n",
              "    .dataframe tbody tr th {\n",
              "        vertical-align: top;\n",
              "    }\n",
              "\n",
              "    .dataframe thead th {\n",
              "        text-align: right;\n",
              "    }\n",
              "</style>\n",
              "<table border=\"1\" class=\"dataframe\">\n",
              "  <thead>\n",
              "    <tr style=\"text-align: right;\">\n",
              "      <th></th>\n",
              "      <th>Uniq Id</th>\n",
              "      <th>Crawl Timestamp</th>\n",
              "      <th>Job Title</th>\n",
              "      <th>Job Salary</th>\n",
              "      <th>Job Experience Required</th>\n",
              "      <th>Key Skills</th>\n",
              "      <th>Role Category</th>\n",
              "      <th>Location</th>\n",
              "      <th>Functional Area</th>\n",
              "      <th>Industry</th>\n",
              "      <th>Role</th>\n",
              "    </tr>\n",
              "  </thead>\n",
              "  <tbody>\n",
              "    <tr>\n",
              "      <th>0</th>\n",
              "      <td>9be62c49a0b7ebe982a4af1edaa7bc5f</td>\n",
              "      <td>2019-07-05 01:46:07 +0000</td>\n",
              "      <td>Digital Media Planner</td>\n",
              "      <td>Not Disclosed by Recruiter</td>\n",
              "      <td>5 - 10 yrs</td>\n",
              "      <td>Media Planning| Digital Media</td>\n",
              "      <td>Advertising</td>\n",
              "      <td>Mumbai</td>\n",
              "      <td>Marketing , Advertising , MR , PR , Media Plan...</td>\n",
              "      <td>Advertising, PR, MR, Event Management</td>\n",
              "      <td>Media Planning Executive/Manager</td>\n",
              "    </tr>\n",
              "  </tbody>\n",
              "</table>\n",
              "</div>"
            ],
            "text/plain": [
              "                            Uniq Id  ...                              Role\n",
              "0  9be62c49a0b7ebe982a4af1edaa7bc5f  ...  Media Planning Executive/Manager\n",
              "\n",
              "[1 rows x 11 columns]"
            ]
          },
          "metadata": {
            "tags": []
          },
          "execution_count": 161
        }
      ]
    },
    {
      "cell_type": "code",
      "metadata": {
        "colab": {
          "base_uri": "https://localhost:8080/",
          "height": 134
        },
        "id": "WRqsQBM_b_2N",
        "outputId": "b78643db-44dd-48f5-e0f2-4970a2dd2dfe"
      },
      "source": [
        "jobPostingsDatasetReedUk = pd.read_csv('./Datasets/JobPostingsDataset(Reed.uk).csv')\n",
        "jobPostingsDatasetReedUk.head(1)"
      ],
      "execution_count": 162,
      "outputs": [
        {
          "output_type": "execute_result",
          "data": {
            "text/html": [
              "<div>\n",
              "<style scoped>\n",
              "    .dataframe tbody tr th:only-of-type {\n",
              "        vertical-align: middle;\n",
              "    }\n",
              "\n",
              "    .dataframe tbody tr th {\n",
              "        vertical-align: top;\n",
              "    }\n",
              "\n",
              "    .dataframe thead th {\n",
              "        text-align: right;\n",
              "    }\n",
              "</style>\n",
              "<table border=\"1\" class=\"dataframe\">\n",
              "  <thead>\n",
              "    <tr style=\"text-align: right;\">\n",
              "      <th></th>\n",
              "      <th>category</th>\n",
              "      <th>city</th>\n",
              "      <th>company_name</th>\n",
              "      <th>geo</th>\n",
              "      <th>job_board</th>\n",
              "      <th>job_description</th>\n",
              "      <th>job_requirements</th>\n",
              "      <th>job_title</th>\n",
              "      <th>job_type</th>\n",
              "      <th>post_date</th>\n",
              "      <th>salary_offered</th>\n",
              "      <th>state</th>\n",
              "    </tr>\n",
              "  </thead>\n",
              "  <tbody>\n",
              "    <tr>\n",
              "      <th>0</th>\n",
              "      <td>catering jobs</td>\n",
              "      <td>Chudleigh</td>\n",
              "      <td>Haulfryn Group</td>\n",
              "      <td>uk</td>\n",
              "      <td>reed</td>\n",
              "      <td>Apply now New opportunity not to be missed! H...</td>\n",
              "      <td>NaN</td>\n",
              "      <td>Commis Chef</td>\n",
              "      <td>Permanent, full-time</td>\n",
              "      <td>3/12/2018</td>\n",
              "      <td>£18,323 per annum</td>\n",
              "      <td>Devon</td>\n",
              "    </tr>\n",
              "  </tbody>\n",
              "</table>\n",
              "</div>"
            ],
            "text/plain": [
              "        category       city  ...       salary_offered  state\n",
              "0  catering jobs  Chudleigh  ...   £18,323 per annum   Devon\n",
              "\n",
              "[1 rows x 12 columns]"
            ]
          },
          "metadata": {
            "tags": []
          },
          "execution_count": 162
        }
      ]
    },
    {
      "cell_type": "code",
      "metadata": {
        "colab": {
          "base_uri": "https://localhost:8080/",
          "height": 184
        },
        "id": "VF5Ip-xqJwaW",
        "outputId": "e247ee9d-04ec-44d5-8b32-c5632c8d30d5"
      },
      "source": [
        "jobPostingsDatasetNaukriMessy = pd.read_csv('./Datasets/JobPostingsDatasetMessy(Naukri.com).csv')\n",
        "jobPostingsDatasetNaukriMessy.head(1)"
      ],
      "execution_count": 163,
      "outputs": [
        {
          "output_type": "execute_result",
          "data": {
            "text/html": [
              "<div>\n",
              "<style scoped>\n",
              "    .dataframe tbody tr th:only-of-type {\n",
              "        vertical-align: middle;\n",
              "    }\n",
              "\n",
              "    .dataframe tbody tr th {\n",
              "        vertical-align: top;\n",
              "    }\n",
              "\n",
              "    .dataframe thead th {\n",
              "        text-align: right;\n",
              "    }\n",
              "</style>\n",
              "<table border=\"1\" class=\"dataframe\">\n",
              "  <thead>\n",
              "    <tr style=\"text-align: right;\">\n",
              "      <th></th>\n",
              "      <th>company</th>\n",
              "      <th>education</th>\n",
              "      <th>experience</th>\n",
              "      <th>industry</th>\n",
              "      <th>jobdescription</th>\n",
              "      <th>jobid</th>\n",
              "      <th>joblocation_address</th>\n",
              "      <th>jobtitle</th>\n",
              "      <th>numberofpositions</th>\n",
              "      <th>payrate</th>\n",
              "      <th>postdate</th>\n",
              "      <th>site_name</th>\n",
              "      <th>skills</th>\n",
              "      <th>uniq_id</th>\n",
              "    </tr>\n",
              "  </thead>\n",
              "  <tbody>\n",
              "    <tr>\n",
              "      <th>0</th>\n",
              "      <td>MM Media Pvt Ltd</td>\n",
              "      <td>UG: B.Tech/B.E. - Any Specialization PG:Any Po...</td>\n",
              "      <td>0 - 1 yrs</td>\n",
              "      <td>Media / Entertainment / Internet</td>\n",
              "      <td>Job Description   Send me Jobs like this Quali...</td>\n",
              "      <td>210516002263</td>\n",
              "      <td>Chennai</td>\n",
              "      <td>Walkin Data Entry Operator (night Shift)</td>\n",
              "      <td>NaN</td>\n",
              "      <td>1,50,000 - 2,25,000 P.A</td>\n",
              "      <td>2016-05-21 19:30:00 +0000</td>\n",
              "      <td>NaN</td>\n",
              "      <td>ITES</td>\n",
              "      <td>43b19632647068535437c774b6ca6cf8</td>\n",
              "    </tr>\n",
              "  </tbody>\n",
              "</table>\n",
              "</div>"
            ],
            "text/plain": [
              "            company  ...                           uniq_id\n",
              "0  MM Media Pvt Ltd  ...  43b19632647068535437c774b6ca6cf8\n",
              "\n",
              "[1 rows x 14 columns]"
            ]
          },
          "metadata": {
            "tags": []
          },
          "execution_count": 163
        }
      ]
    },
    {
      "cell_type": "code",
      "metadata": {
        "colab": {
          "base_uri": "https://localhost:8080/",
          "height": 80
        },
        "id": "gANiqgivKmdq",
        "outputId": "1de01ce3-13d4-44ce-eb03-d8e3e2e5f847"
      },
      "source": [
        "globalCoursesInfoDataset = pd.read_csv('./Datasets/CoursesInfoDataset(CourseTalk.com).csv')\n",
        "globalCoursesInfoDataset.head(1)"
      ],
      "execution_count": 164,
      "outputs": [
        {
          "output_type": "execute_result",
          "data": {
            "text/html": [
              "<div>\n",
              "<style scoped>\n",
              "    .dataframe tbody tr th:only-of-type {\n",
              "        vertical-align: middle;\n",
              "    }\n",
              "\n",
              "    .dataframe tbody tr th {\n",
              "        vertical-align: top;\n",
              "    }\n",
              "\n",
              "    .dataframe thead th {\n",
              "        text-align: right;\n",
              "    }\n",
              "</style>\n",
              "<table border=\"1\" class=\"dataframe\">\n",
              "  <thead>\n",
              "    <tr style=\"text-align: right;\">\n",
              "      <th></th>\n",
              "      <th>CourseTitle</th>\n",
              "      <th>Description</th>\n",
              "      <th>Availability</th>\n",
              "      <th>Cost</th>\n",
              "    </tr>\n",
              "  </thead>\n",
              "  <tbody>\n",
              "    <tr>\n",
              "      <th>0</th>\n",
              "      <td>C# Basics</td>\n",
              "      <td>In this course you will gain all the knowledge...</td>\n",
              "      <td>On demand</td>\n",
              "      <td>$25/mo</td>\n",
              "    </tr>\n",
              "  </tbody>\n",
              "</table>\n",
              "</div>"
            ],
            "text/plain": [
              "  CourseTitle  ...    Cost\n",
              "0   C# Basics  ...  $25/mo\n",
              "\n",
              "[1 rows x 4 columns]"
            ]
          },
          "metadata": {
            "tags": []
          },
          "execution_count": 164
        }
      ]
    },
    {
      "cell_type": "code",
      "metadata": {
        "colab": {
          "base_uri": "https://localhost:8080/",
          "height": 150
        },
        "id": "qxyxcN61K_zI",
        "outputId": "dd6baa96-ad70-4d16-9a5c-1b4054a4e13c"
      },
      "source": [
        "courseraGSIDataset = pd.read_csv('./Datasets/CourseraGSI.csv')\n",
        "courseraGSIDataset.head(1)"
      ],
      "execution_count": 165,
      "outputs": [
        {
          "output_type": "execute_result",
          "data": {
            "text/html": [
              "<div>\n",
              "<style scoped>\n",
              "    .dataframe tbody tr th:only-of-type {\n",
              "        vertical-align: middle;\n",
              "    }\n",
              "\n",
              "    .dataframe tbody tr th {\n",
              "        vertical-align: top;\n",
              "    }\n",
              "\n",
              "    .dataframe thead th {\n",
              "        text-align: right;\n",
              "    }\n",
              "</style>\n",
              "<table border=\"1\" class=\"dataframe\">\n",
              "  <thead>\n",
              "    <tr style=\"text-align: right;\">\n",
              "      <th></th>\n",
              "      <th>country</th>\n",
              "      <th>iso3</th>\n",
              "      <th>region</th>\n",
              "      <th>incomegroup</th>\n",
              "      <th>iso</th>\n",
              "      <th>competency_id</th>\n",
              "      <th>percentile_rank</th>\n",
              "      <th>percentile_category</th>\n",
              "    </tr>\n",
              "  </thead>\n",
              "  <tbody>\n",
              "    <tr>\n",
              "      <th>0</th>\n",
              "      <td>United Arab Emirates</td>\n",
              "      <td>ARE</td>\n",
              "      <td>Middle East &amp; North Africa</td>\n",
              "      <td>High income</td>\n",
              "      <td>AE</td>\n",
              "      <td>statistical-programming</td>\n",
              "      <td>0.864407</td>\n",
              "      <td>Cutting-edge (75%-100%)</td>\n",
              "    </tr>\n",
              "  </tbody>\n",
              "</table>\n",
              "</div>"
            ],
            "text/plain": [
              "                country iso3  ... percentile_rank      percentile_category\n",
              "0  United Arab Emirates  ARE  ...        0.864407  Cutting-edge (75%-100%)\n",
              "\n",
              "[1 rows x 8 columns]"
            ]
          },
          "metadata": {
            "tags": []
          },
          "execution_count": 165
        }
      ]
    },
    {
      "cell_type": "code",
      "metadata": {
        "id": "nngmdjXCLQwo"
      },
      "source": [
        "skillsIndustryNeedsDatasetWorldBankGroup = pd.read_csv('./Datasets/IndustrySkillsNeeds(WorldBankGroup).csv', delimiter=';', encoding = 'latin-1')\n",
        "skillsIndustryNeedsDatasetWorldBankGroup.head(20)\n",
        "\n",
        "INDUSTRY_NAMES = conf(\"INDUSTRY_NAMES\", list(set(skillsIndustryNeedsDatasetWorldBankGroup['industry_name'])))"
      ],
      "execution_count": 169,
      "outputs": []
    },
    {
      "cell_type": "code",
      "metadata": {
        "colab": {
          "base_uri": "https://localhost:8080/",
          "height": 134
        },
        "id": "VpS05uSxNV-n",
        "outputId": "2f444ee2-8860-47cb-baae-7b862cbf8357"
      },
      "source": [
        "skillsPenetrationDatasetWorldBankGroup = pd.read_csv('./Datasets/UseSkillPenetration(World Bank Group).csv', delimiter=';', encoding = 'latin-1')\n",
        "skillsPenetrationDatasetWorldBankGroup.head(1)"
      ],
      "execution_count": 170,
      "outputs": [
        {
          "output_type": "execute_result",
          "data": {
            "text/html": [
              "<div>\n",
              "<style scoped>\n",
              "    .dataframe tbody tr th:only-of-type {\n",
              "        vertical-align: middle;\n",
              "    }\n",
              "\n",
              "    .dataframe tbody tr th {\n",
              "        vertical-align: top;\n",
              "    }\n",
              "\n",
              "    .dataframe thead th {\n",
              "        text-align: right;\n",
              "    }\n",
              "</style>\n",
              "<table border=\"1\" class=\"dataframe\">\n",
              "  <thead>\n",
              "    <tr style=\"text-align: right;\">\n",
              "      <th></th>\n",
              "      <th>skill_group_category</th>\n",
              "      <th>skill_group_name</th>\n",
              "      <th>isic_section_index</th>\n",
              "      <th>isic_section_name</th>\n",
              "      <th>industry_name</th>\n",
              "      <th>skill_group_penetration_rate</th>\n",
              "    </tr>\n",
              "  </thead>\n",
              "  <tbody>\n",
              "    <tr>\n",
              "      <th>0</th>\n",
              "      <td>Business Skills</td>\n",
              "      <td>Accounts Payable</td>\n",
              "      <td>M</td>\n",
              "      <td>Professional scientific and technical activities</td>\n",
              "      <td>Accounting</td>\n",
              "      <td>0,00719</td>\n",
              "    </tr>\n",
              "  </tbody>\n",
              "</table>\n",
              "</div>"
            ],
            "text/plain": [
              "  skill_group_category  ... skill_group_penetration_rate\n",
              "0      Business Skills  ...                      0,00719\n",
              "\n",
              "[1 rows x 6 columns]"
            ]
          },
          "metadata": {
            "tags": []
          },
          "execution_count": 170
        }
      ]
    },
    {
      "cell_type": "markdown",
      "metadata": {
        "id": "J8ro_nu7OIR5"
      },
      "source": [
        "~set structure"
      ]
    },
    {
      "cell_type": "code",
      "metadata": {
        "id": "40fJ5NyDKOGN"
      },
      "source": [
        "jobPostingsDatasets = {\n",
        "    \"naukri1\" : jobPostingsDatasetNaukriClean,\n",
        "    \"reedUk\" : jobPostingsDatasetReedUk,\n",
        "    \"naukri2\" : jobPostingsDatasetNaukriMessy\n",
        "}"
      ],
      "execution_count": 176,
      "outputs": []
    },
    {
      "cell_type": "markdown",
      "metadata": {
        "id": "nu7zokZBOTzn"
      },
      "source": [
        "~modify"
      ]
    },
    {
      "cell_type": "code",
      "metadata": {
        "colab": {
          "base_uri": "https://localhost:8080/",
          "height": 201
        },
        "id": "y6m8KYjaOWW6",
        "outputId": "8eaec062-051d-4a93-892e-e07b6aa4c6a7"
      },
      "source": [
        "jobPostingsDatasetNaukriClean.head(1)"
      ],
      "execution_count": 189,
      "outputs": [
        {
          "output_type": "execute_result",
          "data": {
            "text/html": [
              "<div>\n",
              "<style scoped>\n",
              "    .dataframe tbody tr th:only-of-type {\n",
              "        vertical-align: middle;\n",
              "    }\n",
              "\n",
              "    .dataframe tbody tr th {\n",
              "        vertical-align: top;\n",
              "    }\n",
              "\n",
              "    .dataframe thead th {\n",
              "        text-align: right;\n",
              "    }\n",
              "</style>\n",
              "<table border=\"1\" class=\"dataframe\">\n",
              "  <thead>\n",
              "    <tr style=\"text-align: right;\">\n",
              "      <th></th>\n",
              "      <th>Uniq Id</th>\n",
              "      <th>Crawl Timestamp</th>\n",
              "      <th>Job Title</th>\n",
              "      <th>Job Salary</th>\n",
              "      <th>Job Experience Required</th>\n",
              "      <th>Key Skills</th>\n",
              "      <th>Role Category</th>\n",
              "      <th>Location</th>\n",
              "      <th>Functional Area</th>\n",
              "      <th>Industry</th>\n",
              "      <th>Role</th>\n",
              "    </tr>\n",
              "  </thead>\n",
              "  <tbody>\n",
              "    <tr>\n",
              "      <th>0</th>\n",
              "      <td>9be62c49a0b7ebe982a4af1edaa7bc5f</td>\n",
              "      <td>2019-07-05 01:46:07 +0000</td>\n",
              "      <td>Digital Media Planner</td>\n",
              "      <td>Not Disclosed by Recruiter</td>\n",
              "      <td>5 - 10 yrs</td>\n",
              "      <td>Media Planning| Digital Media</td>\n",
              "      <td>Advertising</td>\n",
              "      <td>Mumbai</td>\n",
              "      <td>Marketing , Advertising , MR , PR , Media Plan...</td>\n",
              "      <td>Advertising, PR, MR, Event Management</td>\n",
              "      <td>Media Planning Executive/Manager</td>\n",
              "    </tr>\n",
              "  </tbody>\n",
              "</table>\n",
              "</div>"
            ],
            "text/plain": [
              "                            Uniq Id  ...                              Role\n",
              "0  9be62c49a0b7ebe982a4af1edaa7bc5f  ...  Media Planning Executive/Manager\n",
              "\n",
              "[1 rows x 11 columns]"
            ]
          },
          "metadata": {
            "tags": []
          },
          "execution_count": 189
        }
      ]
    },
    {
      "cell_type": "code",
      "metadata": {
        "colab": {
          "base_uri": "https://localhost:8080/",
          "height": 97
        },
        "id": "spOiJjojOcc0",
        "outputId": "1151f04e-0a57-44fe-80d3-7710e00bd359"
      },
      "source": [
        "jobPostings1 = jobPostingsDatasetNaukriClean\n",
        "jobPostings1 = jobPostings1[['Job Title', 'Key Skills', 'Job Salary', 'Functional Area', 'Role Category']]\n",
        "\n",
        "jobPostings1['Job Salary'] = list(map(getPriceFromText, jobPostings1['Job Salary']))\n",
        "jobPostings1.rename(columns={\"Job Salary\": \"salary\"}, inplace=True)\n",
        "\n",
        "jobPostings1.rename(columns={\"Functional Area\": \"description_highlights\"}, inplace=True)\n",
        "\n",
        "jobPostings1.rename(columns={\"Key Skills\": \"skills\"}, inplace=True)\n",
        "\n",
        "jobPostings1.rename(columns={\"Role Category\": \"industry\"}, inplace=True)\n",
        "\n",
        "jobPostings1.rename(columns={\"Job Title\": \"job_title\"}, inplace=True)\n",
        "\n",
        "jobPostings1.head(1)"
      ],
      "execution_count": 195,
      "outputs": [
        {
          "output_type": "execute_result",
          "data": {
            "text/html": [
              "<div>\n",
              "<style scoped>\n",
              "    .dataframe tbody tr th:only-of-type {\n",
              "        vertical-align: middle;\n",
              "    }\n",
              "\n",
              "    .dataframe tbody tr th {\n",
              "        vertical-align: top;\n",
              "    }\n",
              "\n",
              "    .dataframe thead th {\n",
              "        text-align: right;\n",
              "    }\n",
              "</style>\n",
              "<table border=\"1\" class=\"dataframe\">\n",
              "  <thead>\n",
              "    <tr style=\"text-align: right;\">\n",
              "      <th></th>\n",
              "      <th>job_title</th>\n",
              "      <th>skills</th>\n",
              "      <th>salary</th>\n",
              "      <th>description_highlights</th>\n",
              "      <th>industry</th>\n",
              "    </tr>\n",
              "  </thead>\n",
              "  <tbody>\n",
              "    <tr>\n",
              "      <th>0</th>\n",
              "      <td>Digital Media Planner</td>\n",
              "      <td>Media Planning| Digital Media</td>\n",
              "      <td></td>\n",
              "      <td>Marketing , Advertising , MR , PR , Media Plan...</td>\n",
              "      <td>Advertising</td>\n",
              "    </tr>\n",
              "  </tbody>\n",
              "</table>\n",
              "</div>"
            ],
            "text/plain": [
              "                job_title  ...     industry\n",
              "0   Digital Media Planner  ...  Advertising\n",
              "\n",
              "[1 rows x 5 columns]"
            ]
          },
          "metadata": {
            "tags": []
          },
          "execution_count": 195
        }
      ]
    },
    {
      "cell_type": "code",
      "metadata": {
        "colab": {
          "base_uri": "https://localhost:8080/",
          "height": 134
        },
        "id": "W1sffI4BSv8R",
        "outputId": "e02ee1f3-a2e2-4a06-d3b1-311ab737e94f"
      },
      "source": [
        "jobPostingsDatasetReedUk.head(1)"
      ],
      "execution_count": 193,
      "outputs": [
        {
          "output_type": "execute_result",
          "data": {
            "text/html": [
              "<div>\n",
              "<style scoped>\n",
              "    .dataframe tbody tr th:only-of-type {\n",
              "        vertical-align: middle;\n",
              "    }\n",
              "\n",
              "    .dataframe tbody tr th {\n",
              "        vertical-align: top;\n",
              "    }\n",
              "\n",
              "    .dataframe thead th {\n",
              "        text-align: right;\n",
              "    }\n",
              "</style>\n",
              "<table border=\"1\" class=\"dataframe\">\n",
              "  <thead>\n",
              "    <tr style=\"text-align: right;\">\n",
              "      <th></th>\n",
              "      <th>category</th>\n",
              "      <th>city</th>\n",
              "      <th>company_name</th>\n",
              "      <th>geo</th>\n",
              "      <th>job_board</th>\n",
              "      <th>job_description</th>\n",
              "      <th>job_requirements</th>\n",
              "      <th>job_title</th>\n",
              "      <th>job_type</th>\n",
              "      <th>post_date</th>\n",
              "      <th>salary_offered</th>\n",
              "      <th>state</th>\n",
              "    </tr>\n",
              "  </thead>\n",
              "  <tbody>\n",
              "    <tr>\n",
              "      <th>0</th>\n",
              "      <td>catering jobs</td>\n",
              "      <td>Chudleigh</td>\n",
              "      <td>Haulfryn Group</td>\n",
              "      <td>uk</td>\n",
              "      <td>reed</td>\n",
              "      <td>Apply now New opportunity not to be missed! H...</td>\n",
              "      <td>NaN</td>\n",
              "      <td>Commis Chef</td>\n",
              "      <td>Permanent, full-time</td>\n",
              "      <td>3/12/2018</td>\n",
              "      <td>£18,323 per annum</td>\n",
              "      <td>Devon</td>\n",
              "    </tr>\n",
              "  </tbody>\n",
              "</table>\n",
              "</div>"
            ],
            "text/plain": [
              "        category       city  ...       salary_offered  state\n",
              "0  catering jobs  Chudleigh  ...   £18,323 per annum   Devon\n",
              "\n",
              "[1 rows x 12 columns]"
            ]
          },
          "metadata": {
            "tags": []
          },
          "execution_count": 193
        }
      ]
    },
    {
      "cell_type": "code",
      "metadata": {
        "colab": {
          "base_uri": "https://localhost:8080/",
          "height": 80
        },
        "id": "Qhy15QlXTyFf",
        "outputId": "df9bf3f5-034a-4a98-8335-34491b2f33da"
      },
      "source": [
        "jobPostings2 = jobPostingsDatasetReedUk\n",
        "jobPostings2 = jobPostings2[['category', 'job_title', 'job_description', 'salary_offered', 'job_requirements']]\n",
        "\n",
        "jobPostings2['salary_offered'] = list(map(getPriceFromText, jobPostings2['salary_offered']))\n",
        "jobPostings2.rename(columns={\"salary_offered\": \"salary\"}, inplace=True)\n",
        "\n",
        "jobPostings2['job_description'] = list(map(getHighlightsFromText, jobPostings2['job_description']))\n",
        "jobPostings2.rename(columns={\"job_description\": \"description_highlights\"}, inplace=True)\n",
        "\n",
        "jobPostings2.rename(columns={\"job_requirements\": \"skills\"}, inplace=True)\n",
        "\n",
        "jobPostings2.rename(columns={\"category\": \"industry\"}, inplace=True)\n",
        "\n",
        "jobPostings2.head(1)"
      ],
      "execution_count": 196,
      "outputs": [
        {
          "output_type": "execute_result",
          "data": {
            "text/html": [
              "<div>\n",
              "<style scoped>\n",
              "    .dataframe tbody tr th:only-of-type {\n",
              "        vertical-align: middle;\n",
              "    }\n",
              "\n",
              "    .dataframe tbody tr th {\n",
              "        vertical-align: top;\n",
              "    }\n",
              "\n",
              "    .dataframe thead th {\n",
              "        text-align: right;\n",
              "    }\n",
              "</style>\n",
              "<table border=\"1\" class=\"dataframe\">\n",
              "  <thead>\n",
              "    <tr style=\"text-align: right;\">\n",
              "      <th></th>\n",
              "      <th>industry</th>\n",
              "      <th>job_title</th>\n",
              "      <th>description_highlights</th>\n",
              "      <th>salary</th>\n",
              "      <th>skills</th>\n",
              "    </tr>\n",
              "  </thead>\n",
              "  <tbody>\n",
              "    <tr>\n",
              "      <th>0</th>\n",
              "      <td>catering jobs</td>\n",
              "      <td>Commis Chef</td>\n",
              "      <td></td>\n",
              "      <td>£18,323</td>\n",
              "      <td>NaN</td>\n",
              "    </tr>\n",
              "  </tbody>\n",
              "</table>\n",
              "</div>"
            ],
            "text/plain": [
              "        industry    job_title description_highlights   salary skills\n",
              "0  catering jobs  Commis Chef                         £18,323    NaN"
            ]
          },
          "metadata": {
            "tags": []
          },
          "execution_count": 196
        }
      ]
    },
    {
      "cell_type": "code",
      "metadata": {
        "colab": {
          "base_uri": "https://localhost:8080/",
          "height": 184
        },
        "id": "OA8k_u3RX6mH",
        "outputId": "5d66dbe1-7e0e-42cf-d361-ba7ef85d037f"
      },
      "source": [
        "jobPostingsDatasetNaukriMessy.head(1)"
      ],
      "execution_count": 197,
      "outputs": [
        {
          "output_type": "execute_result",
          "data": {
            "text/html": [
              "<div>\n",
              "<style scoped>\n",
              "    .dataframe tbody tr th:only-of-type {\n",
              "        vertical-align: middle;\n",
              "    }\n",
              "\n",
              "    .dataframe tbody tr th {\n",
              "        vertical-align: top;\n",
              "    }\n",
              "\n",
              "    .dataframe thead th {\n",
              "        text-align: right;\n",
              "    }\n",
              "</style>\n",
              "<table border=\"1\" class=\"dataframe\">\n",
              "  <thead>\n",
              "    <tr style=\"text-align: right;\">\n",
              "      <th></th>\n",
              "      <th>company</th>\n",
              "      <th>education</th>\n",
              "      <th>experience</th>\n",
              "      <th>industry</th>\n",
              "      <th>jobdescription</th>\n",
              "      <th>jobid</th>\n",
              "      <th>joblocation_address</th>\n",
              "      <th>jobtitle</th>\n",
              "      <th>numberofpositions</th>\n",
              "      <th>payrate</th>\n",
              "      <th>postdate</th>\n",
              "      <th>site_name</th>\n",
              "      <th>skills</th>\n",
              "      <th>uniq_id</th>\n",
              "    </tr>\n",
              "  </thead>\n",
              "  <tbody>\n",
              "    <tr>\n",
              "      <th>0</th>\n",
              "      <td>MM Media Pvt Ltd</td>\n",
              "      <td>UG: B.Tech/B.E. - Any Specialization PG:Any Po...</td>\n",
              "      <td>0 - 1 yrs</td>\n",
              "      <td>Media / Entertainment / Internet</td>\n",
              "      <td>Job Description   Send me Jobs like this Quali...</td>\n",
              "      <td>210516002263</td>\n",
              "      <td>Chennai</td>\n",
              "      <td>Walkin Data Entry Operator (night Shift)</td>\n",
              "      <td>NaN</td>\n",
              "      <td>1,50,000 - 2,25,000 P.A</td>\n",
              "      <td>2016-05-21 19:30:00 +0000</td>\n",
              "      <td>NaN</td>\n",
              "      <td>ITES</td>\n",
              "      <td>43b19632647068535437c774b6ca6cf8</td>\n",
              "    </tr>\n",
              "  </tbody>\n",
              "</table>\n",
              "</div>"
            ],
            "text/plain": [
              "            company  ...                           uniq_id\n",
              "0  MM Media Pvt Ltd  ...  43b19632647068535437c774b6ca6cf8\n",
              "\n",
              "[1 rows x 14 columns]"
            ]
          },
          "metadata": {
            "tags": []
          },
          "execution_count": 197
        }
      ]
    },
    {
      "cell_type": "code",
      "metadata": {
        "colab": {
          "base_uri": "https://localhost:8080/",
          "height": 114
        },
        "id": "cuR3ldjKX6i7",
        "outputId": "4710d7da-f74e-4dad-dda9-e7b3ad50a48a"
      },
      "source": [
        "jobPostings3 = jobPostingsDatasetNaukriMessy\n",
        "jobPostings3 = jobPostings3[['jobtitle', 'jobdescription', 'payrate', 'skills', 'industry']]\n",
        "\n",
        "jobPostings3['payrate'] = list(map(getPriceFromText, jobPostings3['payrate']))\n",
        "jobPostings3.rename(columns={\"payrate\": \"salary\"}, inplace=True)\n",
        "\n",
        "jobPostings3['jobdescription'] = list(map(getHighlightsFromText, jobPostings3['jobdescription']))\n",
        "jobPostings3.rename(columns={\n",
        "    \"jobdescription\": \"description_highlights\",\n",
        "    \"jobtitle\": \"job_title\"\n",
        "    }, inplace=True)\n",
        "\n",
        "jobPostings3.head(1)"
      ],
      "execution_count": 198,
      "outputs": [
        {
          "output_type": "execute_result",
          "data": {
            "text/html": [
              "<div>\n",
              "<style scoped>\n",
              "    .dataframe tbody tr th:only-of-type {\n",
              "        vertical-align: middle;\n",
              "    }\n",
              "\n",
              "    .dataframe tbody tr th {\n",
              "        vertical-align: top;\n",
              "    }\n",
              "\n",
              "    .dataframe thead th {\n",
              "        text-align: right;\n",
              "    }\n",
              "</style>\n",
              "<table border=\"1\" class=\"dataframe\">\n",
              "  <thead>\n",
              "    <tr style=\"text-align: right;\">\n",
              "      <th></th>\n",
              "      <th>job_title</th>\n",
              "      <th>description_highlights</th>\n",
              "      <th>salary</th>\n",
              "      <th>skills</th>\n",
              "      <th>industry</th>\n",
              "    </tr>\n",
              "  </thead>\n",
              "  <tbody>\n",
              "    <tr>\n",
              "      <th>0</th>\n",
              "      <td>Walkin Data Entry Operator (night Shift)</td>\n",
              "      <td></td>\n",
              "      <td>1,50,0002,25,000</td>\n",
              "      <td>ITES</td>\n",
              "      <td>Media / Entertainment / Internet</td>\n",
              "    </tr>\n",
              "  </tbody>\n",
              "</table>\n",
              "</div>"
            ],
            "text/plain": [
              "                                  job_title  ...                          industry\n",
              "0  Walkin Data Entry Operator (night Shift)  ...  Media / Entertainment / Internet\n",
              "\n",
              "[1 rows x 5 columns]"
            ]
          },
          "metadata": {
            "tags": []
          },
          "execution_count": 198
        }
      ]
    },
    {
      "cell_type": "markdown",
      "metadata": {
        "id": "B0Cz8DXya_bB"
      },
      "source": [
        "~concat"
      ]
    },
    {
      "cell_type": "code",
      "metadata": {
        "id": "to-JT2Zya2VG"
      },
      "source": [
        "jobPostings = pd.concat([jobPostings1, jobPostings2, jobPostings3], axis=0)\n",
        "\n",
        "log(\"JobPosting1 shape is \" + str(jobPostings1.shape))\n",
        "log(\"JobPosting2 shape is \" + str(jobPostings2.shape))\n",
        "log(\"JobPosting3 shape is \" + str(jobPostings3.shape))\n",
        "\n",
        "log(\"JobPostings shape is \" + str(jobPostings.shape))"
      ],
      "execution_count": 199,
      "outputs": []
    },
    {
      "cell_type": "code",
      "metadata": {
        "colab": {
          "base_uri": "https://localhost:8080/",
          "height": 1000
        },
        "id": "CeuOgT02tEOM",
        "outputId": "ea64fe8b-3e65-4593-b9e6-4ecadb9bfab1"
      },
      "source": [
        "jobPostingsFull = jobPostings.dropna(subset=['skills'])\n",
        "\n",
        "log(\"JobPostings shape is \" + str(jobPostingsFull.shape))\n",
        "\n",
        "jobPostingsFull.head(30)"
      ],
      "execution_count": 201,
      "outputs": [
        {
          "output_type": "execute_result",
          "data": {
            "text/html": [
              "<div>\n",
              "<style scoped>\n",
              "    .dataframe tbody tr th:only-of-type {\n",
              "        vertical-align: middle;\n",
              "    }\n",
              "\n",
              "    .dataframe tbody tr th {\n",
              "        vertical-align: top;\n",
              "    }\n",
              "\n",
              "    .dataframe thead th {\n",
              "        text-align: right;\n",
              "    }\n",
              "</style>\n",
              "<table border=\"1\" class=\"dataframe\">\n",
              "  <thead>\n",
              "    <tr style=\"text-align: right;\">\n",
              "      <th></th>\n",
              "      <th>job_title</th>\n",
              "      <th>skills</th>\n",
              "      <th>salary</th>\n",
              "      <th>description_highlights</th>\n",
              "      <th>industry</th>\n",
              "    </tr>\n",
              "  </thead>\n",
              "  <tbody>\n",
              "    <tr>\n",
              "      <th>0</th>\n",
              "      <td>Digital Media Planner</td>\n",
              "      <td>Media Planning| Digital Media</td>\n",
              "      <td></td>\n",
              "      <td>Marketing , Advertising , MR , PR , Media Plan...</td>\n",
              "      <td>Advertising</td>\n",
              "    </tr>\n",
              "    <tr>\n",
              "      <th>1</th>\n",
              "      <td>Online Bidding Executive</td>\n",
              "      <td>pre sales| closing| software knowledge| clien...</td>\n",
              "      <td></td>\n",
              "      <td>Sales , Retail , Business Development</td>\n",
              "      <td>Retail Sales</td>\n",
              "    </tr>\n",
              "    <tr>\n",
              "      <th>2</th>\n",
              "      <td>Trainee Research/ Research Executive- Hi- Tec...</td>\n",
              "      <td>Computer science| Fabrication| Quality check|...</td>\n",
              "      <td></td>\n",
              "      <td>Engineering Design , R&amp;D</td>\n",
              "      <td>R&amp;D</td>\n",
              "    </tr>\n",
              "    <tr>\n",
              "      <th>3</th>\n",
              "      <td>Technical Support</td>\n",
              "      <td>Technical Support</td>\n",
              "      <td>2,00,0004,00,000</td>\n",
              "      <td>IT Software - Application Programming , Mainte...</td>\n",
              "      <td>Admin/Maintenance/Security/Datawarehousing</td>\n",
              "    </tr>\n",
              "    <tr>\n",
              "      <th>4</th>\n",
              "      <td>Software Test Engineer -hyderabad</td>\n",
              "      <td>manual testing| test engineering| test cases|...</td>\n",
              "      <td></td>\n",
              "      <td>IT Software - QA &amp; Testing</td>\n",
              "      <td>Programming &amp; Design</td>\n",
              "    </tr>\n",
              "    <tr>\n",
              "      <th>5</th>\n",
              "      <td>Opening For Adobe Analytics Specialist</td>\n",
              "      <td>adobe experience manager| digital| digital ma...</td>\n",
              "      <td>7,00,00017,00,000</td>\n",
              "      <td>IT Software - Application Programming , Mainte...</td>\n",
              "      <td>Programming &amp; Design</td>\n",
              "    </tr>\n",
              "    <tr>\n",
              "      <th>6</th>\n",
              "      <td>Sales- Fresher-for Leading Property Consultant</td>\n",
              "      <td>channel partners| real estate| negotiation| p...</td>\n",
              "      <td>2,00,0003,00,000</td>\n",
              "      <td>Sales , Retail , Business Development</td>\n",
              "      <td>Retail Sales</td>\n",
              "    </tr>\n",
              "    <tr>\n",
              "      <th>7</th>\n",
              "      <td>Opportunity For Azure Devops Architect For Hy...</td>\n",
              "      <td>TFS| Azure| Git| VSTS| Docker| DynaTrace| Spl...</td>\n",
              "      <td></td>\n",
              "      <td>IT Software - Application Programming , Mainte...</td>\n",
              "      <td>Programming &amp; Design</td>\n",
              "    </tr>\n",
              "    <tr>\n",
              "      <th>8</th>\n",
              "      <td>BDE- PUNE</td>\n",
              "      <td>Bde</td>\n",
              "      <td></td>\n",
              "      <td>Sales , Retail , Business Development</td>\n",
              "      <td>Institutional Sales</td>\n",
              "    </tr>\n",
              "    <tr>\n",
              "      <th>9</th>\n",
              "      <td>Technical Support/ Product Support</td>\n",
              "      <td>technical support| support services| applicat...</td>\n",
              "      <td></td>\n",
              "      <td>ITES , BPO , KPO , LPO , Customer Service , Op...</td>\n",
              "      <td>Voice</td>\n",
              "    </tr>\n",
              "    <tr>\n",
              "      <th>10</th>\n",
              "      <td>Executive Assistant To Chairman</td>\n",
              "      <td>secretary| executive assistant| ea</td>\n",
              "      <td>25,00,00035,00,000</td>\n",
              "      <td>Strategy , Management Consulting , Corporate P...</td>\n",
              "      <td>Corporate Planning/Consulting/Strategy</td>\n",
              "    </tr>\n",
              "    <tr>\n",
              "      <th>11</th>\n",
              "      <td>SEO Executive</td>\n",
              "      <td>website| web analytics| xml| link building| g...</td>\n",
              "      <td></td>\n",
              "      <td>IT Software - eCommerce , Internet Technologies</td>\n",
              "      <td>Admin/Maintenance/Security/Datawarehousing</td>\n",
              "    </tr>\n",
              "    <tr>\n",
              "      <th>12</th>\n",
              "      <td>Workflow Coordinator</td>\n",
              "      <td>operations| workflow| tat| monitoring| mts| e...</td>\n",
              "      <td></td>\n",
              "      <td>ITES , BPO , KPO , LPO , Customer Service , Op...</td>\n",
              "      <td>Operations</td>\n",
              "    </tr>\n",
              "    <tr>\n",
              "      <th>13</th>\n",
              "      <td>Oracle IDAM</td>\n",
              "      <td>Oracle IDAM|OIM|OAM</td>\n",
              "      <td>1</td>\n",
              "      <td>IT Software - Application Programming , Mainte...</td>\n",
              "      <td>Programming &amp; Design</td>\n",
              "    </tr>\n",
              "    <tr>\n",
              "      <th>14</th>\n",
              "      <td>Looking Facebook /social Media Manager For ou...</td>\n",
              "      <td>digital marketing| seo| social media marketin...</td>\n",
              "      <td>3,50,0005,00,000</td>\n",
              "      <td>Marketing , Advertising , MR , PR , Media Plan...</td>\n",
              "      <td>Online/Digital Marketing</td>\n",
              "    </tr>\n",
              "    <tr>\n",
              "      <th>15</th>\n",
              "      <td>Wanted Engineering Fresher For MNC Chennai</td>\n",
              "      <td>instrumentation engineering| electrical engin...</td>\n",
              "      <td></td>\n",
              "      <td>Other</td>\n",
              "      <td>NaN</td>\n",
              "    </tr>\n",
              "    <tr>\n",
              "      <th>16</th>\n",
              "      <td>Tooling &amp;amp; Sampling</td>\n",
              "      <td>Help Desk| Customer Service| customer relatio...</td>\n",
              "      <td></td>\n",
              "      <td>Engineering Design , R&amp;D</td>\n",
              "      <td>Engineering Design</td>\n",
              "    </tr>\n",
              "    <tr>\n",
              "      <th>17</th>\n",
              "      <td>Account Manager</td>\n",
              "      <td>Report Generation| Policies| analytical| proc...</td>\n",
              "      <td></td>\n",
              "      <td>Accounts , Finance , Tax , Company Secretary ,...</td>\n",
              "      <td>Accounts</td>\n",
              "    </tr>\n",
              "    <tr>\n",
              "      <th>18</th>\n",
              "      <td>Magento Developer</td>\n",
              "      <td>Copyright| Email| jQuery| XML| Javascript| Ca...</td>\n",
              "      <td></td>\n",
              "      <td>IT Software - eCommerce , Internet Technologies</td>\n",
              "      <td>Programming &amp; Design</td>\n",
              "    </tr>\n",
              "    <tr>\n",
              "      <th>19</th>\n",
              "      <td>Looking For Trained Freshers in MS Dynamics C...</td>\n",
              "      <td>C#| MS Dynamics CRM| Microsoft Dynamics| ms d...</td>\n",
              "      <td></td>\n",
              "      <td>IT Software - Application Programming , Mainte...</td>\n",
              "      <td>Programming &amp; Design</td>\n",
              "    </tr>\n",
              "    <tr>\n",
              "      <th>20</th>\n",
              "      <td>Job Openings Kotak Life/ Max Life/ Aditya Bir...</td>\n",
              "      <td>sales manager| business development manager| ...</td>\n",
              "      <td>1,00,0003,25,000</td>\n",
              "      <td>Financial Services , Banking , Investments , I...</td>\n",
              "      <td>Retail/Personal Banking</td>\n",
              "    </tr>\n",
              "    <tr>\n",
              "      <th>21</th>\n",
              "      <td>Business Development / Corporate Sales</td>\n",
              "      <td>lead generation| business development| corpor...</td>\n",
              "      <td>2,50,0004,50,000</td>\n",
              "      <td>Sales , Retail , Business Development</td>\n",
              "      <td>Retail Sales</td>\n",
              "    </tr>\n",
              "    <tr>\n",
              "      <th>22</th>\n",
              "      <td>Business Development Manager (BDM)</td>\n",
              "      <td>contract management| closing| it services| re...</td>\n",
              "      <td></td>\n",
              "      <td>Sales , Retail , Business Development</td>\n",
              "      <td>Retail Sales</td>\n",
              "    </tr>\n",
              "    <tr>\n",
              "      <th>23</th>\n",
              "      <td>QA Executive</td>\n",
              "      <td>QA Executive</td>\n",
              "      <td>2,00,0003,00,000</td>\n",
              "      <td>IT Software - QA &amp; Testing</td>\n",
              "      <td>QA/Testing/Documentation</td>\n",
              "    </tr>\n",
              "    <tr>\n",
              "      <th>24</th>\n",
              "      <td>Back End Java Developer - Restful Services/soap</td>\n",
              "      <td>Java EE| JMS| Core Java| JUnit| Weblogic| HTM...</td>\n",
              "      <td></td>\n",
              "      <td>IT Software - DBA , Datawarehousing</td>\n",
              "      <td>Programming &amp; Design</td>\n",
              "    </tr>\n",
              "    <tr>\n",
              "      <th>25</th>\n",
              "      <td>Product Engineer</td>\n",
              "      <td>Conceptualization| Architecting| Continuous i...</td>\n",
              "      <td></td>\n",
              "      <td>IT Software - Application Programming , Mainte...</td>\n",
              "      <td>Programming &amp; Design</td>\n",
              "    </tr>\n",
              "    <tr>\n",
              "      <th>26</th>\n",
              "      <td>Opening For Articulate tool Developer - Artic...</td>\n",
              "      <td>Articulate Storyline</td>\n",
              "      <td>2,00,0004,00,000</td>\n",
              "      <td>IT Software - Application Programming , Mainte...</td>\n",
              "      <td>Programming &amp; Design</td>\n",
              "    </tr>\n",
              "    <tr>\n",
              "      <th>27</th>\n",
              "      <td>Urgent Hiring for Area Sales Manager</td>\n",
              "      <td>Area Sales Management| Retail Sales| FMCG| Ch...</td>\n",
              "      <td></td>\n",
              "      <td>Sales , Retail , Business Development</td>\n",
              "      <td>Retail Sales</td>\n",
              "    </tr>\n",
              "    <tr>\n",
              "      <th>28</th>\n",
              "      <td>Software Engineer - C++ Development - Ooad/oops</td>\n",
              "      <td>C#| Java| OOP| C++| Multithreading| UML| OOAD...</td>\n",
              "      <td></td>\n",
              "      <td>IT Software - Application Programming , Mainte...</td>\n",
              "      <td>Programming &amp; Design</td>\n",
              "    </tr>\n",
              "    <tr>\n",
              "      <th>29</th>\n",
              "      <td>Linux Administrator Lead</td>\n",
              "      <td>qmail| workflow| nagios| windows server| netw...</td>\n",
              "      <td></td>\n",
              "      <td>IT Software - Network Administration , Security</td>\n",
              "      <td>Admin/Maintenance/Security/Datawarehousing</td>\n",
              "    </tr>\n",
              "  </tbody>\n",
              "</table>\n",
              "</div>"
            ],
            "text/plain": [
              "                                            job_title  ...                                    industry\n",
              "0                               Digital Media Planner  ...                                 Advertising\n",
              "1                            Online Bidding Executive  ...                                Retail Sales\n",
              "2    Trainee Research/ Research Executive- Hi- Tec...  ...                                         R&D\n",
              "3                                   Technical Support  ...  Admin/Maintenance/Security/Datawarehousing\n",
              "4                   Software Test Engineer -hyderabad  ...                        Programming & Design\n",
              "5              Opening For Adobe Analytics Specialist  ...                        Programming & Design\n",
              "6      Sales- Fresher-for Leading Property Consultant  ...                                Retail Sales\n",
              "7    Opportunity For Azure Devops Architect For Hy...  ...                        Programming & Design\n",
              "8                                           BDE- PUNE  ...                         Institutional Sales\n",
              "9                  Technical Support/ Product Support  ...                                       Voice\n",
              "10                    Executive Assistant To Chairman  ...      Corporate Planning/Consulting/Strategy\n",
              "11                                      SEO Executive  ...  Admin/Maintenance/Security/Datawarehousing\n",
              "12                               Workflow Coordinator  ...                                  Operations\n",
              "13                                        Oracle IDAM  ...                        Programming & Design\n",
              "14   Looking Facebook /social Media Manager For ou...  ...                    Online/Digital Marketing\n",
              "15         Wanted Engineering Fresher For MNC Chennai  ...                                         NaN\n",
              "16                             Tooling &amp; Sampling  ...                          Engineering Design\n",
              "17                                    Account Manager  ...                                    Accounts\n",
              "18                                  Magento Developer  ...                        Programming & Design\n",
              "19   Looking For Trained Freshers in MS Dynamics C...  ...                        Programming & Design\n",
              "20   Job Openings Kotak Life/ Max Life/ Aditya Bir...  ...                     Retail/Personal Banking\n",
              "21             Business Development / Corporate Sales  ...                                Retail Sales\n",
              "22                 Business Development Manager (BDM)  ...                                Retail Sales\n",
              "23                                       QA Executive  ...                    QA/Testing/Documentation\n",
              "24    Back End Java Developer - Restful Services/soap  ...                        Programming & Design\n",
              "25                                   Product Engineer  ...                        Programming & Design\n",
              "26   Opening For Articulate tool Developer - Artic...  ...                        Programming & Design\n",
              "27               Urgent Hiring for Area Sales Manager  ...                                Retail Sales\n",
              "28    Software Engineer - C++ Development - Ooad/oops  ...                        Programming & Design\n",
              "29                           Linux Administrator Lead  ...  Admin/Maintenance/Security/Datawarehousing\n",
              "\n",
              "[30 rows x 5 columns]"
            ]
          },
          "metadata": {
            "tags": []
          },
          "execution_count": 201
        }
      ]
    },
    {
      "cell_type": "code",
      "metadata": {
        "id": "u3DhkOINtMNN"
      },
      "source": [
        ""
      ],
      "execution_count": null,
      "outputs": []
    }
  ]
}